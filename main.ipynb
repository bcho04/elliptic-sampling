{
 "cells": [
  {
   "cell_type": "code",
   "execution_count": 61,
   "id": "short-contemporary",
   "metadata": {},
   "outputs": [],
   "source": [
    "import numpy as np\n",
    "import matplotlib.pyplot as plt\n",
    "import scipy.stats"
   ]
  },
  {
   "cell_type": "markdown",
   "id": "whole-resistance",
   "metadata": {},
   "source": [
    "We start by working with the elliptic curve $$y^2=x^3-x+1,$$ and develop a parameterization of this curve as follows."
   ]
  },
  {
   "cell_type": "code",
   "execution_count": 62,
   "id": "affecting-spice",
   "metadata": {},
   "outputs": [],
   "source": [
    "def ECP_1(t): # ECP = \"elliptic curve parameterization\"\n",
    "    g = lambda t: 1/t - 3.325\n",
    "    \n",
    "    if(0.5 < t < 1):\n",
    "        return (g(1-t), np.sqrt(g(1-t)**3-g(1-t)+1)) # positive half of curve\n",
    "    elif(0 < t < 0.5):\n",
    "        return (g(t), -np.sqrt(g(t)**3-g(t)+1)) # negative half of curve\n",
    "    else:\n",
    "        return (-1.325, 0)\n",
    "    \n",
    "def ECP_1_inverse(P): # P = (P_x, P_y).\n",
    "    if (P[1] > 0): # reverse according to positive side\n",
    "        return 1 - 1/(P[0]+3.325) # Use x-coordinate to reverse ECP_1.\n",
    "    if(P[1] < 0): # reverse if on negative side\n",
    "        return 1/(P[0]+3.325)\n",
    "    else:\n",
    "        return 0.5"
   ]
  },
  {
   "cell_type": "code",
   "execution_count": 63,
   "id": "pregnant-midwest",
   "metadata": {},
   "outputs": [
    {
     "data": {
      "text/plain": [
       "(-1.2841836734693879, -0.4079225372669378)"
      ]
     },
     "execution_count": 63,
     "metadata": {},
     "output_type": "execute_result"
    }
   ],
   "source": [
    "ECP_1(0.49)"
   ]
  },
  {
   "cell_type": "code",
   "execution_count": 64,
   "id": "short-chair",
   "metadata": {},
   "outputs": [
    {
     "data": {
      "text/plain": [
       "0.6992481203007519"
      ]
     },
     "execution_count": 64,
     "metadata": {},
     "output_type": "execute_result"
    }
   ],
   "source": [
    "ECP_1_inverse((0,1))"
   ]
  },
  {
   "cell_type": "markdown",
   "id": "surgical-consideration",
   "metadata": {},
   "source": [
    "In order to add two points on an arbitrary elliptic curve, we can do the following. Let $P$ and $Q$ be points on an elliptic curve $\\mathcal{E}$, and let $$P+Q=R.$$ Then we have that $R=(R_x,R_y)$ is defined as follows, with $\\lambda=\\frac{Q_y-P_y}{Q_x-P_x}$:\n",
    "$$R_x = \\lambda^2-P_x-Q_x$$\n",
    "$$R_y = \\lambda(P_x-R_x)-P_y,$$\n",
    "when neither $P$ nor $Q$ are the point at infinity, $\\mathcal{O}$."
   ]
  },
  {
   "cell_type": "code",
   "execution_count": 65,
   "id": "consolidated-ranking",
   "metadata": {},
   "outputs": [],
   "source": [
    "def ECP_1_add(P, Q):\n",
    "    L = (Q[1] - P[1])/(Q[0] - P[0]) # lambda\n",
    "    R_x = L**2 - P[0] - Q[0]\n",
    "    R_y = L * (P[0] - R_x) - P[1]\n",
    "    R_y = ECP_1(ECP_1_inverse((R_x, R_y)))[1]\n",
    "    return (R_x, R_y)"
   ]
  },
  {
   "cell_type": "code",
   "execution_count": 66,
   "id": "reliable-complexity",
   "metadata": {},
   "outputs": [
    {
     "data": {
      "text/plain": [
       "(1.8945977216091134, -2.4302390413376056)"
      ]
     },
     "execution_count": 66,
     "metadata": {},
     "output_type": "execute_result"
    }
   ],
   "source": [
    "ECP_1_add((-1.325, 0), (0, 1)) # this is correct."
   ]
  },
  {
   "cell_type": "markdown",
   "id": "conscious-language",
   "metadata": {},
   "source": [
    "Using these functions, we can now define partial sums of a sequence of points using elliptic curve addition."
   ]
  },
  {
   "cell_type": "code",
   "execution_count": 67,
   "id": "bound-webcam",
   "metadata": {},
   "outputs": [],
   "source": [
    "def partial_sums(ECP, PDF, add, n=100): # PDF must be defined on [0,1). This returns partial sums for a **single series** of points.\n",
    "        P = [ECP_1(k) for k in PDF(size=n)] # The set of points P_1, P_2, P_3, ... P_n\n",
    "        P_sum = [P[0]]\n",
    "        for i in range(1,len(P)):\n",
    "            P_sum.append(add(P_sum[i-1], P[i]))\n",
    "        return np.array(P_sum)"
   ]
  },
  {
   "cell_type": "markdown",
   "id": "quiet-cross",
   "metadata": {},
   "source": [
    "## Testing partial sums of $y^2=x^3-x+1$ with a uniform PDF"
   ]
  },
  {
   "cell_type": "code",
   "execution_count": 68,
   "id": "logical-catholic",
   "metadata": {},
   "outputs": [],
   "source": [
    "def PDF_truncnorm(size):\n",
    "    return scipy.stats.truncnorm.rvs(-1,1,scale=0.5, size=size)+0.5\n",
    "\n",
    "def PDF_uniform(size):\n",
    "    return np.random.uniform(size=size)\n",
    "\n",
    "def PDF_uniform_limit(size):\n",
    "    return np.random.uniform(low=0.49,high=0.51,size=size)"
   ]
  },
  {
   "cell_type": "code",
   "execution_count": 69,
   "id": "intensive-french",
   "metadata": {},
   "outputs": [
    {
     "data": {
      "image/png": "[encoded data removed]",
      "text/plain": [
       "<Figure size 432x288 with 1 Axes>"
      ]
     },
     "metadata": {
      "needs_background": "light"
     },
     "output_type": "display_data"
    }
   ],
   "source": [
    "plot_dist = PDF_truncnorm(100000)\n",
    "\n",
    "plt.hist(plot_dist, bins=np.arange(0,1,0.01))\n",
    "plt.show()"
   ]
  },
  {
   "cell_type": "code",
   "execution_count": 70,
   "id": "pacific-virus",
   "metadata": {},
   "outputs": [
    {
     "name": "stderr",
     "output_type": "stream",
     "text": [
      "<ipython-input-62-f384ce9f172c>:5: RuntimeWarning: invalid value encountered in sqrt\n",
      "  return (g(1-t), np.sqrt(g(1-t)**3-g(1-t)+1)) # positive half of curve\n",
      "<ipython-input-62-f384ce9f172c>:7: RuntimeWarning: invalid value encountered in sqrt\n",
      "  return (g(t), -np.sqrt(g(t)**3-g(t)+1)) # negative half of curve\n"
     ]
    }
   ],
   "source": [
    "ECP_1_sums = np.array([partial_sums(ECP_1, PDF_truncnorm, ECP_1_add, n=1000) for _ in range(10000)]) # Calculate partial sums a lot of times."
   ]
  },
  {
   "cell_type": "code",
   "execution_count": 71,
   "id": "indoor-appearance",
   "metadata": {},
   "outputs": [
    {
     "name": "stderr",
     "output_type": "stream",
     "text": [
      "<ipython-input-62-f384ce9f172c>:5: RuntimeWarning: invalid value encountered in sqrt\n",
      "  return (g(1-t), np.sqrt(g(1-t)**3-g(1-t)+1)) # positive half of curve\n"
     ]
    },
    {
     "data": {
      "text/plain": [
       "(-15.0, 15.0)"
      ]
     },
     "execution_count": 71,
     "metadata": {},
     "output_type": "execute_result"
    },
    {
     "data": {
      "image/png": "[encoded data removed]",
      "text/plain": [
       "<Figure size 432x288 with 1 Axes>"
      ]
     },
     "metadata": {
      "needs_background": "light"
     },
     "output_type": "display_data"
    }
   ],
   "source": [
    "plt.scatter(ECP_1_sums[0].T[0], ECP_1_sums[0].T[1])\n",
    "plt.plot([ECP_1(t)[0] for t in np.arange(0.1,0.9,0.001)], [ECP_1(t)[1] for t in np.arange(0.1,0.9,0.001)])\n",
    "plt.xlim(-30,30)\n",
    "plt.ylim(-15,15)"
   ]
  },
  {
   "cell_type": "markdown",
   "id": "greater-kitty",
   "metadata": {},
   "source": [
    "We now convert `ECP_1_sums` back into the original parameterization variable $t$."
   ]
  },
  {
   "cell_type": "code",
   "execution_count": 72,
   "id": "entertaining-concentrate",
   "metadata": {},
   "outputs": [],
   "source": [
    "ECP_1_sums_t = np.array([[ECP_1_inverse(P) for P in ECP_sum] for ECP_sum in ECP_1_sums])"
   ]
  },
  {
   "cell_type": "code",
   "execution_count": 73,
   "id": "indirect-contributor",
   "metadata": {},
   "outputs": [
    {
     "data": {
      "image/png": "[encoded data removed]",
      "text/plain": [
       "<Figure size 432x288 with 1 Axes>"
      ]
     },
     "metadata": {
      "needs_background": "light"
     },
     "output_type": "display_data"
    },
    {
     "data": {
      "image/png": "[encoded data removed]",
      "text/plain": [
       "<Figure size 432x288 with 1 Axes>"
      ]
     },
     "metadata": {
      "needs_background": "light"
     },
     "output_type": "display_data"
    }
   ],
   "source": [
    "plt.hist(ECP_1_sums_t.T[1], bins=np.arange(0,1,0.002))\n",
    "plt.xlim(0,1)\n",
    "plt.show()\n",
    "\n",
    "plt.hist(ECP_1_sums_t.T[999], bins=np.arange(0,1,0.002))\n",
    "plt.xlim(0,1)\n",
    "plt.show()"
   ]
  },
  {
   "cell_type": "code",
   "execution_count": 74,
   "id": "identified-alcohol",
   "metadata": {},
   "outputs": [
    {
     "name": "stderr",
     "output_type": "stream",
     "text": [
      "<ipython-input-62-f384ce9f172c>:5: RuntimeWarning: invalid value encountered in sqrt\n",
      "  return (g(1-t), np.sqrt(g(1-t)**3-g(1-t)+1)) # positive half of curve\n"
     ]
    },
    {
     "data": {
      "text/plain": [
       "(-15.0, 15.0)"
      ]
     },
     "execution_count": 74,
     "metadata": {},
     "output_type": "execute_result"
    },
    {
     "data": {
      "image/png": "[encoded data removed]",
      "text/plain": [
       "<Figure size 432x288 with 1 Axes>"
      ]
     },
     "metadata": {
      "needs_background": "light"
     },
     "output_type": "display_data"
    }
   ],
   "source": [
    "plt.scatter(np.array([ECP_1(t) for t in ECP_1_sums_t.T[99]]).T[0][:100], np.array([ECP_1(t) for t in ECP_1_sums_t.T[99]]).T[1][:100])\n",
    "plt.plot([ECP_1(t)[0] for t in np.arange(0.1,0.9,0.001)], [ECP_1(t)[1] for t in np.arange(0.1,0.9,0.001)])\n",
    "plt.xlim(-30,30)\n",
    "plt.ylim(-15,15)"
   ]
  },
  {
   "cell_type": "code",
   "execution_count": 75,
   "id": "medical-easter",
   "metadata": {
    "scrolled": true
   },
   "outputs": [
    {
     "data": {
      "image/png": "[encoded data removed]",
      "text/plain": [
       "<Figure size 432x288 with 1 Axes>"
      ]
     },
     "metadata": {
      "needs_background": "light"
     },
     "output_type": "display_data"
    }
   ],
   "source": [
    "plt_hist = np.histogram(ECP_1_sums_t.T[99], bins=np.arange(0,1,0.002))[0]\n",
    "color = [1 - (plt_hist[k]/np.max(plt_hist))**0.7 for k in range(len(plt_hist))]\n",
    "data_x, data_y = [ECP_1(t)[0] for t in np.arange(0.001,0.999,0.002)], [ECP_1(t)[1] for t in np.arange(0.001,0.999,0.002)]\n",
    "\n",
    "for i in range(np.size(np.arange(0.001,0.999,0.002))):\n",
    "    plt.plot(data_x[i:i+5], data_y[i:i+5],\n",
    "            color=(color[i],color[i],color[i]))\n",
    "plt.xlim(-15,15)\n",
    "plt.ylim(-7.5,7.5)\n",
    "plt.show()"
   ]
  }
 ],
 "metadata": {
  "kernelspec": {
   "display_name": "Python 3",
   "language": "python",
   "name": "python3"
  },
  "language_info": {
   "codemirror_mode": {
    "name": "ipython",
    "version": 3
   },
   "file_extension": ".py",
   "mimetype": "text/x-python",
   "name": "python",
   "nbconvert_exporter": "python",
   "pygments_lexer": "ipython3",
   "version": "3.8.2"
  }
 },
 "nbformat": 4,
 "nbformat_minor": 5
}
